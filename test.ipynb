{
 "cells": [
  {
   "attachments": {},
   "cell_type": "markdown",
   "metadata": {},
   "source": [
    "## Web Scraping with Python"
   ]
  },
  {
   "cell_type": "code",
   "execution_count": 2,
   "metadata": {},
   "outputs": [
    {
     "name": "stdout",
     "output_type": "stream",
     "text": [
      "Requirement already satisfied: beautifulsoup4 in /Users/oscar/opt/anaconda3/envs/data/lib/python3.9/site-packages (4.10.0)\n",
      "Requirement already satisfied: soupsieve>1.2 in /Users/oscar/opt/anaconda3/envs/data/lib/python3.9/site-packages (from beautifulsoup4) (2.2.1)\n"
     ]
    }
   ],
   "source": [
    "! pip install beautifulsoup4"
   ]
  },
  {
   "cell_type": "code",
   "execution_count": 3,
   "metadata": {},
   "outputs": [
    {
     "name": "stdout",
     "output_type": "stream",
     "text": [
      "b'<html>\\n<head>\\n<title>A Useful Page</title>\\n</head>\\n<body>\\n<h1>An Interesting Title</h1>\\n<div>\\nLorem ipsum dolor sit amet, consectetur adipisicing elit, sed do eiusmod tempor incididunt ut labore et dolore magna aliqua. Ut enim ad minim veniam, quis nostrud exercitation ullamco laboris nisi ut aliquip ex ea commodo consequat. Duis aute irure dolor in reprehenderit in voluptate velit esse cillum dolore eu fugiat nulla pariatur. Excepteur sint occaecat cupidatat non proident, sunt in culpa qui officia deserunt mollit anim id est laborum.\\n</div>\\n</body>\\n</html>\\n'\n"
     ]
    }
   ],
   "source": [
    "from urllib.request import urlopen\n",
    "\n",
    "html = urlopen('http://pythonscraping.com/pages/page1.html')\n",
    "print(html.read())"
   ]
  },
  {
   "cell_type": "code",
   "execution_count": 6,
   "metadata": {},
   "outputs": [],
   "source": [
    "html2 = urlopen('https://news.ycombinator.com/')\n",
    "#print(html2.read())"
   ]
  },
  {
   "cell_type": "code",
   "execution_count": 14,
   "metadata": {},
   "outputs": [
    {
     "name": "stdout",
     "output_type": "stream",
     "text": [
      "<html lang=\"en\" op=\"news\"><head><meta content=\"origin\" name=\"referrer\"/><meta content=\"width=device-width, initial-scale=1.0\" name=\"viewport\"/><link href=\"news.css?kXOjqdxBzqaGPJMHVid0\" rel=\"stylesheet\" type=\"text/css\"/>\n",
      "<link href=\"favicon.ico\" rel=\"shortcut icon\"/>\n",
      "<link href=\"rss\" rel=\"alternate\" title=\"RSS\" type=\"application/rss+xml\"/>\n",
      "<title>Hacker News</title></head><body><center><table bgcolor=\"#f6f6ef\" border=\"0\" cellpadding=\"0\" cellspacing=\"0\" id=\"hnmain\" width=\"85%\">\n",
      "<tr><td bgcolor=\"#ff6600\"><table border=\"0\" cellpadding=\"0\" cellspacing=\"0\" style=\"padding:2px\" width=\"100%\"><tr><td style=\"width:18px;padding-right:4px\"><a href=\"https://news.ycombinator.com\"><img height=\"18\" src=\"y18.gif\" style=\"border:1px white solid;\" width=\"18\"/></a></td>\n",
      "<td style=\"line-height:12pt; height:10px;\"><span class=\"pagetop\"><b class=\"hnname\"><a href=\"news\">Hacker News</a></b>\n",
      "<a href=\"newest\">new</a> | <a href=\"front\">past</a> | <a href=\"newcomments\">comments</a> | <a href=\"ask\">ask</a> | <a href=\"show\">show</a> | <a href=\"jobs\">jobs</a> | <a href=\"submit\">submit</a> </span></td><td style=\"text-align:right;padding-right:4px;\"><span class=\"pagetop\">\n",
      "<a href=\"login?goto=news\">login</a>\n",
      "</span></td>\n",
      "</tr></table></td></tr>\n",
      "<tr id=\"pagespace\" style=\"height:10px\" title=\"\"></tr><tr><td><table border=\"0\" cellpadding=\"0\" cellspacing=\"0\">\n",
      "<tr class=\"athing\" id=\"34303497\">\n",
      "<td align=\"right\" class=\"title\" valign=\"top\"><span class=\"rank\">1.</span></td> <td class=\"votelinks\" valign=\"top\"><center><a href=\"vote?id=34303497&amp;how=up&amp;goto=news\" id=\"up_34303497\"><div class=\"votearrow\" title=\"upvote\"></div></a></center></td><td class=\"title\"><span class=\"titleline\"><a href=\"https://github.com/google/cdc-file-transfer\">CDC File Transfer</a><span class=\"sitebit comhead\"> (<a href=\"from?site=github.com/google\"><span class=\"sitestr\">github.com/google</span></a>)</span></span></td></tr><tr><td colspan=\"2\"></td><td class=\"subtext\"><span class=\"subline\">\n",
      "<span class=\"score\" id=\"score_34303497\">453 points</span> by <a class=\"hnuser\" href=\"user?id=cglong\">cglong</a> <span class=\"age\" title=\"2023-01-08T21:46:29\"><a href=\"item?id=34303497\">6 hours ago</a></span> <span id=\"unv_34303497\"></span> | <a href=\"hide?id=34303497&amp;goto=news\">hide</a> | <a href=\"item?id=34303497\">88 comments</a> </span>\n",
      "</td></tr>\n",
      "<tr class=\"spacer\" style=\"height:5px\"></tr>\n",
      "<tr class=\"athing\" id=\"34304823\">\n",
      "<td align=\"right\" class=\"title\" valign=\"top\"><span class=\"rank\">2.</span></td> <td class=\"votelinks\" valign=\"top\"><center><a href=\"vote?id=34304823&amp;how=up&amp;goto=news\" id=\"up_34304823\"><div class=\"votearrow\" title=\"upvote\"></div></a></center></td><td class=\"title\"><span class=\"titleline\"><a href=\"https://archive.org/details/furby-source\">Furby source code (1998)</a><span class=\"sitebit comhead\"> (<a href=\"from?site=archive.org\"><span class=\"sitestr\">archive.org</span></a>)</span></span></td></tr><tr><td colspan=\"2\"></td><td class=\"subtext\"><span class=\"subline\">\n",
      "<span class=\"score\" id=\"score_34304823\">145 points</span> by <a class=\"hnuser\" href=\"user?id=gaws\">gaws</a> <span class=\"age\" title=\"2023-01-09T00:00:11\"><a href=\"item?id=34304823\">4 hours ago</a></span> <span id=\"unv_34304823\"></span> | <a href=\"hide?id=34304823&amp;goto=news\">hide</a> | <a href=\"item?id=34304823\">36 comments</a> </span>\n",
      "</td></tr>\n",
      "<tr class=\"spacer\" style=\"height:5px\"></tr>\n",
      "<tr class=\"athing\" id=\"34304851\">\n",
      "<td align=\"right\" class=\"title\" valign=\"top\"><span class=\"rank\">3.</span></td> <td class=\"votelinks\" valign=\"top\"><center><a href=\"vote?id=34304851&amp;how=up&amp;goto=news\" id=\"up_34304851\"><div class=\"votearrow\" title=\"upvote\"></div></a></center></td><td class=\"title\"><span class=\"titleline\"><a href=\"https://www.agriculture.com/news/business/kansas-research-shows-reintroducing-bison-on-tallgrass-prairie-doubles-plant-diversity\">Reintroducing bison on tallgrass prairie doubles plant diversity: research</a><span class=\"sitebit comhead\"> (<a href=\"from?site=agriculture.com\"><span class=\"sitestr\">agriculture.com</span></a>)</span></span></td></tr><tr><td colspan=\"2\"></td><td class=\"subtext\"><span class=\"subline\">\n",
      "<span class=\"score\" id=\"score_34304851\">120 points</span> by <a class=\"hnuser\" href=\"user?id=mooreds\">mooreds</a> <span class=\"age\" title=\"2023-01-09T00:03:59\"><a href=\"item?id=34304851\">3 hours ago</a></span> <span id=\"unv_34304851\"></span> | <a href=\"hide?id=34304851&amp;goto=news\">hide</a> | <a href=\"item?id=34304851\">62 comments</a> </span>\n",
      "</td></tr>\n",
      "<tr class=\"spacer\" style=\"height:5px\"></tr>\n",
      "<tr class=\"athing\" id=\"34304520\">\n",
      "<td align=\"right\" class=\"title\" valign=\"top\"><span class=\"rank\">4.</span></td> <td class=\"votelinks\" valign=\"top\"><center><a href=\"vote?id=34304520&amp;how=up&amp;goto=news\" id=\"up_34304520\"><div class=\"votearrow\" title=\"upvote\"></div></a></center></td><td class=\"title\"><span class=\"titleline\"><a href=\"https://donmelton.com/2013/01/10/safari-is-released-to-the-world/\">Safari is released to the world (2013)</a><span class=\"sitebit comhead\"> (<a href=\"from?site=donmelton.com\"><span class=\"sitestr\">donmelton.com</span></a>)</span></span></td></tr><tr><td colspan=\"2\"></td><td class=\"subtext\"><span class=\"subline\">\n",
      "<span class=\"score\" id=\"score_34304520\">94 points</span> by <a class=\"hnuser\" href=\"user?id=goranmoomin\">goranmoomin</a> <span class=\"age\" title=\"2023-01-08T23:26:00\"><a href=\"item?id=34304520\">4 hours ago</a></span> <span id=\"unv_34304520\"></span> | <a href=\"hide?id=34304520&amp;goto=news\">hide</a> | <a href=\"item?id=34304520\">10 comments</a> </span>\n",
      "</td></tr>\n",
      "<tr class=\"spacer\" style=\"height:5px\"></tr>\n",
      "<tr class=\"athing\" id=\"34305954\">\n",
      "<td align=\"right\" class=\"title\" valign=\"top\"><span class=\"rank\">5.</span></td> <td class=\"votelinks\" valign=\"top\"><center><a href=\"vote?id=34305954&amp;how=up&amp;goto=news\" id=\"up_34305954\"><div class=\"votearrow\" title=\"upvote\"></div></a></center></td><td class=\"title\"><span class=\"titleline\"><a href=\"https://blogs.bl.uk/untoldlives/2023/01/walkers-manly-exercises.html\">Walker’s Manly Exercises</a><span class=\"sitebit comhead\"> (<a href=\"from?site=blogs.bl.uk\"><span class=\"sitestr\">blogs.bl.uk</span></a>)</span></span></td></tr><tr><td colspan=\"2\"></td><td class=\"subtext\"><span class=\"subline\">\n",
      "<span class=\"score\" id=\"score_34305954\">18 points</span> by <a class=\"hnuser\" href=\"user?id=lermontov\">lermontov</a> <span class=\"age\" title=\"2023-01-09T02:20:32\"><a href=\"item?id=34305954\">1 hour ago</a></span> <span id=\"unv_34305954\"></span> | <a href=\"hide?id=34305954&amp;goto=news\">hide</a> | <a href=\"item?id=34305954\">1 comment</a> </span>\n",
      "</td></tr>\n",
      "<tr class=\"spacer\" style=\"height:5px\"></tr>\n",
      "<tr class=\"athing\" id=\"34306025\">\n",
      "<td align=\"right\" class=\"title\" valign=\"top\"><span class=\"rank\">6.</span></td> <td class=\"votelinks\" valign=\"top\"><center><a href=\"vote?id=34306025&amp;how=up&amp;goto=news\" id=\"up_34306025\"><div class=\"votearrow\" title=\"upvote\"></div></a></center></td><td class=\"title\"><span class=\"titleline\"><a href=\"https://arxiv.org/abs/2301.02477\">Wolf 1069B: Earth-mass planet in the habitable zone of a nearby, low-mass star</a><span class=\"sitebit comhead\"> (<a href=\"from?site=arxiv.org\"><span class=\"sitestr\">arxiv.org</span></a>)</span></span></td></tr><tr><td colspan=\"2\"></td><td class=\"subtext\"><span class=\"subline\">\n",
      "<span class=\"score\" id=\"score_34306025\">22 points</span> by <a class=\"hnuser\" href=\"user?id=pinewurst\">pinewurst</a> <span class=\"age\" title=\"2023-01-09T02:35:42\"><a href=\"item?id=34306025\">1 hour ago</a></span> <span id=\"unv_34306025\"></span> | <a href=\"hide?id=34306025&amp;goto=news\">hide</a> | <a href=\"item?id=34306025\">13 comments</a> </span>\n",
      "</td></tr>\n",
      "<tr class=\"spacer\" style=\"height:5px\"></tr>\n",
      "<tr class=\"athing\" id=\"34304655\">\n",
      "<td align=\"right\" class=\"title\" valign=\"top\"><span class=\"rank\">7.</span></td> <td class=\"votelinks\" valign=\"top\"><center><a href=\"vote?id=34304655&amp;how=up&amp;goto=news\" id=\"up_34304655\"><div class=\"votearrow\" title=\"upvote\"></div></a></center></td><td class=\"title\"><span class=\"titleline\"><a href=\"https://donhopkins.medium.com/alan-kay-on-should-web-browsers-have-stuck-to-being-document-viewers-and-a-discussion-of-news-5cb92c7b3445\">Alan Kay on web browsers, document viewers, Smalltalk, NeWS and HyperCard (2021)</a><span class=\"sitebit comhead\"> (<a href=\"from?site=donhopkins.medium.com\"><span class=\"sitestr\">donhopkins.medium.com</span></a>)</span></span></td></tr><tr><td colspan=\"2\"></td><td class=\"subtext\"><span class=\"subline\">\n",
      "<span class=\"score\" id=\"score_34304655\">109 points</span> by <a class=\"hnuser\" href=\"user?id=gjvc\">gjvc</a> <span class=\"age\" title=\"2023-01-08T23:39:23\"><a href=\"item?id=34304655\">4 hours ago</a></span> <span id=\"unv_34304655\"></span> | <a href=\"hide?id=34304655&amp;goto=news\">hide</a> | <a href=\"item?id=34304655\">107 comments</a> </span>\n",
      "</td></tr>\n",
      "<tr class=\"spacer\" style=\"height:5px\"></tr>\n",
      "<tr class=\"athing\" id=\"34304361\">\n",
      "<td align=\"right\" class=\"title\" valign=\"top\"><span class=\"rank\">8.</span></td> <td class=\"votelinks\" valign=\"top\"><center><a href=\"vote?id=34304361&amp;how=up&amp;goto=news\" id=\"up_34304361\"><div class=\"votearrow\" title=\"upvote\"></div></a></center></td><td class=\"title\"><span class=\"titleline\"><a href=\"https://davidesnotes.com/shorts/1/\">Unbricking a BIOS-Bricked Motherboard</a><span class=\"sitebit comhead\"> (<a href=\"from?site=davidesnotes.com\"><span class=\"sitestr\">davidesnotes.com</span></a>)</span></span></td></tr><tr><td colspan=\"2\"></td><td class=\"subtext\"><span class=\"subline\">\n",
      "<span class=\"score\" id=\"score_34304361\">58 points</span> by <a class=\"hnuser\" href=\"user?id=belter\">belter</a> <span class=\"age\" title=\"2023-01-08T23:07:52\"><a href=\"item?id=34304361\">4 hours ago</a></span> <span id=\"unv_34304361\"></span> | <a href=\"hide?id=34304361&amp;goto=news\">hide</a> | <a href=\"item?id=34304361\">20 comments</a> </span>\n",
      "</td></tr>\n",
      "<tr class=\"spacer\" style=\"height:5px\"></tr>\n",
      "<tr class=\"athing\" id=\"34296396\">\n",
      "<td align=\"right\" class=\"title\" valign=\"top\"><span class=\"rank\">9.</span></td> <td class=\"votelinks\" valign=\"top\"><center><a href=\"vote?id=34296396&amp;how=up&amp;goto=news\" id=\"up_34296396\"><div class=\"votearrow\" title=\"upvote\"></div></a></center></td><td class=\"title\"><span class=\"titleline\"><a href=\"https://mitxela.com/projects/dotfiles_management\">Dotfiles Management</a><span class=\"sitebit comhead\"> (<a href=\"from?site=mitxela.com\"><span class=\"sitestr\">mitxela.com</span></a>)</span></span></td></tr><tr><td colspan=\"2\"></td><td class=\"subtext\"><span class=\"subline\">\n",
      "<span class=\"score\" id=\"score_34296396\">219 points</span> by <a class=\"hnuser\" href=\"user?id=threeme3\">threeme3</a> <span class=\"age\" title=\"2023-01-08T05:38:57\"><a href=\"item?id=34296396\">10 hours ago</a></span> <span id=\"unv_34296396\"></span> | <a href=\"hide?id=34296396&amp;goto=news\">hide</a> | <a href=\"item?id=34296396\">98 comments</a> </span>\n",
      "</td></tr>\n",
      "<tr class=\"spacer\" style=\"height:5px\"></tr>\n",
      "<tr class=\"athing\" id=\"34301768\">\n",
      "<td align=\"right\" class=\"title\" valign=\"top\"><span class=\"rank\">10.</span></td> <td class=\"votelinks\" valign=\"top\"><center><a href=\"vote?id=34301768&amp;how=up&amp;goto=news\" id=\"up_34301768\"><div class=\"votearrow\" title=\"upvote\"></div></a></center></td><td class=\"title\"><span class=\"titleline\"><a href=\"https://words.filippo.io/dispatches/whoami-updated/\">ssh whoami.filippo.io</a><span class=\"sitebit comhead\"> (<a href=\"from?site=filippo.io\"><span class=\"sitestr\">filippo.io</span></a>)</span></span></td></tr><tr><td colspan=\"2\"></td><td class=\"subtext\"><span class=\"subline\">\n",
      "<span class=\"score\" id=\"score_34301768\">132 points</span> by <a class=\"hnuser\" href=\"user?id=exists\">exists</a> <span class=\"age\" title=\"2023-01-08T18:40:23\"><a href=\"item?id=34301768\">9 hours ago</a></span> <span id=\"unv_34301768\"></span> | <a href=\"hide?id=34301768&amp;goto=news\">hide</a> | <a href=\"item?id=34301768\">51 comments</a> </span>\n",
      "</td></tr>\n",
      "<tr class=\"spacer\" style=\"height:5px\"></tr>\n",
      "<tr class=\"athing\" id=\"34300893\">\n",
      "<td align=\"right\" class=\"title\" valign=\"top\"><span class=\"rank\">11.</span></td> <td class=\"votelinks\" valign=\"top\"><center><a href=\"vote?id=34300893&amp;how=up&amp;goto=news\" id=\"up_34300893\"><div class=\"votearrow\" title=\"upvote\"></div></a></center></td><td class=\"title\"><span class=\"titleline\"><a href=\"https://hexdocs.pm/owl/readme.html\">Owl: A toolkit for writing command-line user interfaces in Elixir</a><span class=\"sitebit comhead\"> (<a href=\"from?site=hexdocs.pm\"><span class=\"sitestr\">hexdocs.pm</span></a>)</span></span></td></tr><tr><td colspan=\"2\"></td><td class=\"subtext\"><span class=\"subline\">\n",
      "<span class=\"score\" id=\"score_34300893\">191 points</span> by <a class=\"hnuser\" href=\"user?id=clessg\">clessg</a> <span class=\"age\" title=\"2023-01-08T17:13:45\"><a href=\"item?id=34300893\">10 hours ago</a></span> <span id=\"unv_34300893\"></span> | <a href=\"hide?id=34300893&amp;goto=news\">hide</a> | <a href=\"item?id=34300893\">55 comments</a> </span>\n",
      "</td></tr>\n",
      "<tr class=\"spacer\" style=\"height:5px\"></tr>\n",
      "<tr class=\"athing\" id=\"34282033\">\n",
      "<td align=\"right\" class=\"title\" valign=\"top\"><span class=\"rank\">12.</span></td> <td class=\"votelinks\" valign=\"top\"><center><a href=\"vote?id=34282033&amp;how=up&amp;goto=news\" id=\"up_34282033\"><div class=\"votearrow\" title=\"upvote\"></div></a></center></td><td class=\"title\"><span class=\"titleline\"><a href=\"https://sashachapin.substack.com/p/five-mildly-anti-buddhist-essays\">Five mildly anti-Buddhist essays</a><span class=\"sitebit comhead\"> (<a href=\"from?site=sashachapin.substack.com\"><span class=\"sitestr\">sashachapin.substack.com</span></a>)</span></span></td></tr><tr><td colspan=\"2\"></td><td class=\"subtext\"><span class=\"subline\">\n",
      "<span class=\"score\" id=\"score_34282033\">156 points</span> by <a class=\"hnuser\" href=\"user?id=simonebrunozzi\">simonebrunozzi</a> <span class=\"age\" title=\"2023-01-06T22:14:34\"><a href=\"item?id=34282033\">10 hours ago</a></span> <span id=\"unv_34282033\"></span> | <a href=\"hide?id=34282033&amp;goto=news\">hide</a> | <a href=\"item?id=34282033\">121 comments</a> </span>\n",
      "</td></tr>\n",
      "<tr class=\"spacer\" style=\"height:5px\"></tr>\n",
      "<tr class=\"athing\" id=\"34299304\">\n",
      "<td align=\"right\" class=\"title\" valign=\"top\"><span class=\"rank\">13.</span></td> <td class=\"votelinks\" valign=\"top\"><center><a href=\"vote?id=34299304&amp;how=up&amp;goto=news\" id=\"up_34299304\"><div class=\"votearrow\" title=\"upvote\"></div></a></center></td><td class=\"title\"><span class=\"titleline\"><a href=\"https://fanpu.io/blog/2023/latex-tips/\">The Art of LaTeX: Common mistakes and advice for typesetting proofs</a><span class=\"sitebit comhead\"> (<a href=\"from?site=fanpu.io\"><span class=\"sitestr\">fanpu.io</span></a>)</span></span></td></tr><tr><td colspan=\"2\"></td><td class=\"subtext\"><span class=\"subline\">\n",
      "<span class=\"score\" id=\"score_34299304\">244 points</span> by <a class=\"hnuser\" href=\"user?id=fanpu\">fanpu</a> <span class=\"age\" title=\"2023-01-08T14:22:30\"><a href=\"item?id=34299304\">13 hours ago</a></span> <span id=\"unv_34299304\"></span> | <a href=\"hide?id=34299304&amp;goto=news\">hide</a> | <a href=\"item?id=34299304\">132 comments</a> </span>\n",
      "</td></tr>\n",
      "<tr class=\"spacer\" style=\"height:5px\"></tr>\n",
      "<tr class=\"athing\" id=\"34291287\">\n",
      "<td align=\"right\" class=\"title\" valign=\"top\"><span class=\"rank\">14.</span></td> <td class=\"votelinks\" valign=\"top\"><center><a href=\"vote?id=34291287&amp;how=up&amp;goto=news\" id=\"up_34291287\"><div class=\"votearrow\" title=\"upvote\"></div></a></center></td><td class=\"title\"><span class=\"titleline\"><a href=\"https://scalibq.wordpress.com/2023/01/07/when-is-a-pc-not-a-pc-the-pc-98/\">When is a PC not a PC? The PC-98</a><span class=\"sitebit comhead\"> (<a href=\"from?site=scalibq.wordpress.com\"><span class=\"sitestr\">scalibq.wordpress.com</span></a>)</span></span></td></tr><tr><td colspan=\"2\"></td><td class=\"subtext\"><span class=\"subline\">\n",
      "<span class=\"score\" id=\"score_34291287\">104 points</span> by <a class=\"hnuser\" href=\"user?id=zdw\">zdw</a> <span class=\"age\" title=\"2023-01-07T18:54:24\"><a href=\"item?id=34291287\">11 hours ago</a></span> <span id=\"unv_34291287\"></span> | <a href=\"hide?id=34291287&amp;goto=news\">hide</a> | <a href=\"item?id=34291287\">65 comments</a> </span>\n",
      "</td></tr>\n",
      "<tr class=\"spacer\" style=\"height:5px\"></tr>\n",
      "<tr class=\"athing\" id=\"34300765\">\n",
      "<td align=\"right\" class=\"title\" valign=\"top\"><span class=\"rank\">15.</span></td> <td class=\"votelinks\" valign=\"top\"><center><a href=\"vote?id=34300765&amp;how=up&amp;goto=news\" id=\"up_34300765\"><div class=\"votearrow\" title=\"upvote\"></div></a></center></td><td class=\"title\"><span class=\"titleline\"><a href=\"https://www.youtube.com/watch?v=ZpCrBBj6AWE\">Playing Zork with AI-generated imagery [video]</a><span class=\"sitebit comhead\"> (<a href=\"from?site=youtube.com\"><span class=\"sitestr\">youtube.com</span></a>)</span></span></td></tr><tr><td colspan=\"2\"></td><td class=\"subtext\"><span class=\"subline\">\n",
      "<span class=\"score\" id=\"score_34300765\">99 points</span> by <a class=\"hnuser\" href=\"user?id=mr_walsh\">mr_walsh</a> <span class=\"age\" title=\"2023-01-08T17:01:36\"><a href=\"item?id=34300765\">11 hours ago</a></span> <span id=\"unv_34300765\"></span> | <a href=\"hide?id=34300765&amp;goto=news\">hide</a> | <a href=\"item?id=34300765\">37 comments</a> </span>\n",
      "</td></tr>\n",
      "<tr class=\"spacer\" style=\"height:5px\"></tr>\n",
      "<tr class=\"athing\" id=\"34297245\">\n",
      "<td align=\"right\" class=\"title\" valign=\"top\"><span class=\"rank\">16.</span></td> <td class=\"votelinks\" valign=\"top\"><center><a href=\"vote?id=34297245&amp;how=up&amp;goto=news\" id=\"up_34297245\"><div class=\"votearrow\" title=\"upvote\"></div></a></center></td><td class=\"title\"><span class=\"titleline\"><a href=\"https://rtpg.co/2023/01/08/ideas-for-a-javascript-stricter-mode.html\" rel=\"nofollow\">Ideas for a JavaScript Stricter Mode</a><span class=\"sitebit comhead\"> (<a href=\"from?site=rtpg.co\"><span class=\"sitestr\">rtpg.co</span></a>)</span></span></td></tr><tr><td colspan=\"2\"></td><td class=\"subtext\"><span class=\"subline\">\n",
      "<span class=\"score\" id=\"score_34297245\">11 points</span> by <a class=\"hnuser\" href=\"user?id=todsacerdoti\">todsacerdoti</a> <span class=\"age\" title=\"2023-01-08T08:41:32\"><a href=\"item?id=34297245\">1 hour ago</a></span> <span id=\"unv_34297245\"></span> | <a href=\"hide?id=34297245&amp;goto=news\">hide</a> | <a href=\"item?id=34297245\">7 comments</a> </span>\n",
      "</td></tr>\n",
      "<tr class=\"spacer\" style=\"height:5px\"></tr>\n",
      "<tr class=\"athing\" id=\"34303009\">\n",
      "<td align=\"right\" class=\"title\" valign=\"top\"><span class=\"rank\">17.</span></td> <td class=\"votelinks\" valign=\"top\"><center><a href=\"vote?id=34303009&amp;how=up&amp;goto=news\" id=\"up_34303009\"><div class=\"votearrow\" title=\"upvote\"></div></a></center></td><td class=\"title\"><span class=\"titleline\"><a href=\"https://longform.asmartbear.com/docs/fulfillment/\">Finding Fulfillment</a><span class=\"sitebit comhead\"> (<a href=\"from?site=asmartbear.com\"><span class=\"sitestr\">asmartbear.com</span></a>)</span></span></td></tr><tr><td colspan=\"2\"></td><td class=\"subtext\"><span class=\"subline\">\n",
      "<span class=\"score\" id=\"score_34303009\">61 points</span> by <a class=\"hnuser\" href=\"user?id=kareemm\">kareemm</a> <span class=\"age\" title=\"2023-01-08T20:55:50\"><a href=\"item?id=34303009\">7 hours ago</a></span> <span id=\"unv_34303009\"></span> | <a href=\"hide?id=34303009&amp;goto=news\">hide</a> | <a href=\"item?id=34303009\">12 comments</a> </span>\n",
      "</td></tr>\n",
      "<tr class=\"spacer\" style=\"height:5px\"></tr>\n",
      "<tr class=\"athing\" id=\"34300806\">\n",
      "<td align=\"right\" class=\"title\" valign=\"top\"><span class=\"rank\">18.</span></td> <td class=\"votelinks\" valign=\"top\"><center><a href=\"vote?id=34300806&amp;how=up&amp;goto=news\" id=\"up_34300806\"><div class=\"votearrow\" title=\"upvote\"></div></a></center></td><td class=\"title\"><span class=\"titleline\"><a href=\"https://journal.paoloamoroso.com/my-encounter-with-medley-interlisp\">My encounter with Medley Interlisp</a><span class=\"sitebit comhead\"> (<a href=\"from?site=paoloamoroso.com\"><span class=\"sitestr\">paoloamoroso.com</span></a>)</span></span></td></tr><tr><td colspan=\"2\"></td><td class=\"subtext\"><span class=\"subline\">\n",
      "<span class=\"score\" id=\"score_34300806\">87 points</span> by <a class=\"hnuser\" href=\"user?id=mepian\">mepian</a> <span class=\"age\" title=\"2023-01-08T17:05:26\"><a href=\"item?id=34300806\">10 hours ago</a></span> <span id=\"unv_34300806\"></span> | <a href=\"hide?id=34300806&amp;goto=news\">hide</a> | <a href=\"item?id=34300806\">22 comments</a> </span>\n",
      "</td></tr>\n",
      "<tr class=\"spacer\" style=\"height:5px\"></tr>\n",
      "<tr class=\"athing\" id=\"34294576\">\n",
      "<td align=\"right\" class=\"title\" valign=\"top\"><span class=\"rank\">19.</span></td> <td class=\"votelinks\" valign=\"top\"><center><a href=\"vote?id=34294576&amp;how=up&amp;goto=news\" id=\"up_34294576\"><div class=\"votearrow\" title=\"upvote\"></div></a></center></td><td class=\"title\"><span class=\"titleline\"><a href=\"http://cseo-coherence.microsoft.com/\">Microsoft subdomain takeover</a><span class=\"sitebit comhead\"> (<a href=\"from?site=microsoft.com\"><span class=\"sitestr\">microsoft.com</span></a>)</span></span></td></tr><tr><td colspan=\"2\"></td><td class=\"subtext\"><span class=\"subline\">\n",
      "<span class=\"score\" id=\"score_34294576\">217 points</span> by <a class=\"hnuser\" href=\"user?id=kailanb\">kailanb</a> <span class=\"age\" title=\"2023-01-08T00:16:45\"><a href=\"item?id=34294576\">9 hours ago</a></span> <span id=\"unv_34294576\"></span> | <a href=\"hide?id=34294576&amp;goto=news\">hide</a> | <a href=\"item?id=34294576\">53 comments</a> </span>\n",
      "</td></tr>\n",
      "<tr class=\"spacer\" style=\"height:5px\"></tr>\n",
      "<tr class=\"athing\" id=\"34303068\">\n",
      "<td align=\"right\" class=\"title\" valign=\"top\"><span class=\"rank\">20.</span></td> <td><img height=\"1\" src=\"s.gif\" width=\"14\"/></td> <td class=\"title\"><span class=\"titleline\"><a href=\"https://onesignal.com/careers/4004540006\" rel=\"nofollow\">OneSignal (YC S11) Is Hiring Product Engineers</a><span class=\"sitebit comhead\"> (<a href=\"from?site=onesignal.com\"><span class=\"sitestr\">onesignal.com</span></a>)</span></span></td></tr><tr><td colspan=\"2\"></td><td class=\"subtext\">\n",
      "<span class=\"age\" title=\"2023-01-08T21:02:16\"><a href=\"item?id=34303068\">7 hours ago</a></span> | <a href=\"hide?id=34303068&amp;goto=news\">hide</a> </td></tr>\n",
      "<tr class=\"spacer\" style=\"height:5px\"></tr>\n",
      "<tr class=\"athing\" id=\"34299592\">\n",
      "<td align=\"right\" class=\"title\" valign=\"top\"><span class=\"rank\">21.</span></td> <td class=\"votelinks\" valign=\"top\"><center><a href=\"vote?id=34299592&amp;how=up&amp;goto=news\" id=\"up_34299592\"><div class=\"votearrow\" title=\"upvote\"></div></a></center></td><td class=\"title\"><span class=\"titleline\"><a href=\"https://www.theverge.com/2022/12/26/23519605/tiktok-viral-videos-privacy-surveillance-street-interviews-vlogs\">Please don’t film me in 2023</a><span class=\"sitebit comhead\"> (<a href=\"from?site=theverge.com\"><span class=\"sitestr\">theverge.com</span></a>)</span></span></td></tr><tr><td colspan=\"2\"></td><td class=\"subtext\"><span class=\"subline\">\n",
      "<span class=\"score\" id=\"score_34299592\">259 points</span> by <a class=\"hnuser\" href=\"user?id=ColinWright\">ColinWright</a> <span class=\"age\" title=\"2023-01-08T14:57:32\"><a href=\"item?id=34299592\">13 hours ago</a></span> <span id=\"unv_34299592\"></span> | <a href=\"hide?id=34299592&amp;goto=news\">hide</a> | <a href=\"item?id=34299592\">293 comments</a> </span>\n",
      "</td></tr>\n",
      "<tr class=\"spacer\" style=\"height:5px\"></tr>\n",
      "<tr class=\"athing\" id=\"34287615\">\n",
      "<td align=\"right\" class=\"title\" valign=\"top\"><span class=\"rank\">22.</span></td> <td class=\"votelinks\" valign=\"top\"><center><a href=\"vote?id=34287615&amp;how=up&amp;goto=news\" id=\"up_34287615\"><div class=\"votearrow\" title=\"upvote\"></div></a></center></td><td class=\"title\"><span class=\"titleline\"><a href=\"https://soranews24.com/2017/08/18/the-secret-undo-codes-for-japanese-elevator-floor-buttons/\">Undo codes for Japanese elevator floor buttons</a><span class=\"sitebit comhead\"> (<a href=\"from?site=soranews24.com\"><span class=\"sitestr\">soranews24.com</span></a>)</span></span></td></tr><tr><td colspan=\"2\"></td><td class=\"subtext\"><span class=\"subline\">\n",
      "<span class=\"score\" id=\"score_34287615\">116 points</span> by <a class=\"hnuser\" href=\"user?id=kalimanzaro\">kalimanzaro</a> <span class=\"age\" title=\"2023-01-07T12:56:03\"><a href=\"item?id=34287615\">13 hours ago</a></span> <span id=\"unv_34287615\"></span> | <a href=\"hide?id=34287615&amp;goto=news\">hide</a> | <a href=\"item?id=34287615\">77 comments</a> </span>\n",
      "</td></tr>\n",
      "<tr class=\"spacer\" style=\"height:5px\"></tr>\n",
      "<tr class=\"athing\" id=\"34303386\">\n",
      "<td align=\"right\" class=\"title\" valign=\"top\"><span class=\"rank\">23.</span></td> <td class=\"votelinks\" valign=\"top\"><center><a href=\"vote?id=34303386&amp;how=up&amp;goto=news\" id=\"up_34303386\"><div class=\"votearrow\" title=\"upvote\"></div></a></center></td><td class=\"title\"><span class=\"titleline\"><a href=\"https://www.setphaserstostun.org/posts/monitoring-ecc-memory-on-linux-with-rasdaemon/\">Monitoring ECC memory on Linux with rasdaemon</a><span class=\"sitebit comhead\"> (<a href=\"from?site=setphaserstostun.org\"><span class=\"sitestr\">setphaserstostun.org</span></a>)</span></span></td></tr><tr><td colspan=\"2\"></td><td class=\"subtext\"><span class=\"subline\">\n",
      "<span class=\"score\" id=\"score_34303386\">28 points</span> by <a class=\"hnuser\" href=\"user?id=zdw\">zdw</a> <span class=\"age\" title=\"2023-01-08T21:35:53\"><a href=\"item?id=34303386\">6 hours ago</a></span> <span id=\"unv_34303386\"></span> | <a href=\"hide?id=34303386&amp;goto=news\">hide</a> | <a href=\"item?id=34303386\">12 comments</a> </span>\n",
      "</td></tr>\n",
      "<tr class=\"spacer\" style=\"height:5px\"></tr>\n",
      "<tr class=\"athing\" id=\"34305831\">\n",
      "<td align=\"right\" class=\"title\" valign=\"top\"><span class=\"rank\">24.</span></td> <td class=\"votelinks\" valign=\"top\"><center><a href=\"vote?id=34305831&amp;how=up&amp;goto=news\" id=\"up_34305831\"><div class=\"votearrow\" title=\"upvote\"></div></a></center></td><td class=\"title\"><span class=\"titleline\"><a href=\"https://www.wsj.com/articles/deere-to-allow-farmers-to-repair-their-own-equipment-11673228580\">Deere to Allow Farmers to Repair Their Own Equipment</a><span class=\"sitebit comhead\"> (<a href=\"from?site=wsj.com\"><span class=\"sitestr\">wsj.com</span></a>)</span></span></td></tr><tr><td colspan=\"2\"></td><td class=\"subtext\"><span class=\"subline\">\n",
      "<span class=\"score\" id=\"score_34305831\">22 points</span> by <a class=\"hnuser\" href=\"user?id=impish9208\">impish9208</a> <span class=\"age\" title=\"2023-01-09T02:01:17\"><a href=\"item?id=34305831\">2 hours ago</a></span> <span id=\"unv_34305831\"></span> | <a href=\"hide?id=34305831&amp;goto=news\">hide</a> | <a href=\"item?id=34305831\">5 comments</a> </span>\n",
      "</td></tr>\n",
      "<tr class=\"spacer\" style=\"height:5px\"></tr>\n",
      "<tr class=\"athing\" id=\"34305972\">\n",
      "<td align=\"right\" class=\"title\" valign=\"top\"><span class=\"rank\">25.</span></td> <td class=\"votelinks\" valign=\"top\"><center><a href=\"vote?id=34305972&amp;how=up&amp;goto=news\" id=\"up_34305972\"><div class=\"votearrow\" title=\"upvote\"></div></a></center></td><td class=\"title\"><span class=\"titleline\"><a href=\"https://longform.asmartbear.com/posts/extreme-questions/\">Extreme questions to trigger new, better ideas</a><span class=\"sitebit comhead\"> (<a href=\"from?site=asmartbear.com\"><span class=\"sitestr\">asmartbear.com</span></a>)</span></span></td></tr><tr><td colspan=\"2\"></td><td class=\"subtext\"><span class=\"subline\">\n",
      "<span class=\"score\" id=\"score_34305972\">27 points</span> by <a class=\"hnuser\" href=\"user?id=nimzoLarsen\">nimzoLarsen</a> <span class=\"age\" title=\"2023-01-09T02:23:39\"><a href=\"item?id=34305972\">1 hour ago</a></span> <span id=\"unv_34305972\"></span> | <a href=\"hide?id=34305972&amp;goto=news\">hide</a> | <a href=\"item?id=34305972\">1 comment</a> </span>\n",
      "</td></tr>\n",
      "<tr class=\"spacer\" style=\"height:5px\"></tr>\n",
      "<tr class=\"athing\" id=\"34298235\">\n",
      "<td align=\"right\" class=\"title\" valign=\"top\"><span class=\"rank\">26.</span></td> <td class=\"votelinks\" valign=\"top\"><center><a href=\"vote?id=34298235&amp;how=up&amp;goto=news\" id=\"up_34298235\"><div class=\"votearrow\" title=\"upvote\"></div></a></center></td><td class=\"title\"><span class=\"titleline\"><a href=\"http://steamtraen.blogspot.com/2021/10/a-bug-and-dilemma.html\">A bug and a dilemma (2021)</a><span class=\"sitebit comhead\"> (<a href=\"from?site=steamtraen.blogspot.com\"><span class=\"sitestr\">steamtraen.blogspot.com</span></a>)</span></span></td></tr><tr><td colspan=\"2\"></td><td class=\"subtext\"><span class=\"subline\">\n",
      "<span class=\"score\" id=\"score_34298235\">11 points</span> by <a class=\"hnuser\" href=\"user?id=luu\">luu</a> <span class=\"age\" title=\"2023-01-08T11:34:53\"><a href=\"item?id=34298235\">4 hours ago</a></span> <span id=\"unv_34298235\"></span> | <a href=\"hide?id=34298235&amp;goto=news\">hide</a> | <a href=\"item?id=34298235\">discuss</a> </span>\n",
      "</td></tr>\n",
      "<tr class=\"spacer\" style=\"height:5px\"></tr>\n",
      "<tr class=\"athing\" id=\"34302343\">\n",
      "<td align=\"right\" class=\"title\" valign=\"top\"><span class=\"rank\">27.</span></td> <td class=\"votelinks\" valign=\"top\"><center><a href=\"vote?id=34302343&amp;how=up&amp;goto=news\" id=\"up_34302343\"><div class=\"votearrow\" title=\"upvote\"></div></a></center></td><td class=\"title\"><span class=\"titleline\"><a href=\"https://pr0g.github.io/mathematics/matrix/2022/12/26/column-row-major.html\">Column major and row major vectors and matrices (for games)</a><span class=\"sitebit comhead\"> (<a href=\"from?site=pr0g.github.io\"><span class=\"sitestr\">pr0g.github.io</span></a>)</span></span></td></tr><tr><td colspan=\"2\"></td><td class=\"subtext\"><span class=\"subline\">\n",
      "<span class=\"score\" id=\"score_34302343\">21 points</span> by <a class=\"hnuser\" href=\"user?id=ibobev\">ibobev</a> <span class=\"age\" title=\"2023-01-08T19:42:04\"><a href=\"item?id=34302343\">7 hours ago</a></span> <span id=\"unv_34302343\"></span> | <a href=\"hide?id=34302343&amp;goto=news\">hide</a> | <a href=\"item?id=34302343\">1 comment</a> </span>\n",
      "</td></tr>\n",
      "<tr class=\"spacer\" style=\"height:5px\"></tr>\n",
      "<tr class=\"athing\" id=\"34301543\">\n",
      "<td align=\"right\" class=\"title\" valign=\"top\"><span class=\"rank\">28.</span></td> <td class=\"votelinks\" valign=\"top\"><center><a href=\"vote?id=34301543&amp;how=up&amp;goto=news\" id=\"up_34301543\"><div class=\"votearrow\" title=\"upvote\"></div></a></center></td><td class=\"title\"><span class=\"titleline\"><a href=\"https://blog.waleedkhan.name/git-ui-features/\">Where are my Git UI features from the future?</a><span class=\"sitebit comhead\"> (<a href=\"from?site=waleedkhan.name\"><span class=\"sitestr\">waleedkhan.name</span></a>)</span></span></td></tr><tr><td colspan=\"2\"></td><td class=\"subtext\"><span class=\"subline\">\n",
      "<span class=\"score\" id=\"score_34301543\">149 points</span> by <a class=\"hnuser\" href=\"user?id=arxanas\">arxanas</a> <span class=\"age\" title=\"2023-01-08T18:17:58\"><a href=\"item?id=34301543\">9 hours ago</a></span> <span id=\"unv_34301543\"></span> | <a href=\"hide?id=34301543&amp;goto=news\">hide</a> | <a href=\"item?id=34301543\">193 comments</a> </span>\n",
      "</td></tr>\n",
      "<tr class=\"spacer\" style=\"height:5px\"></tr>\n",
      "<tr class=\"athing\" id=\"34293784\">\n",
      "<td align=\"right\" class=\"title\" valign=\"top\"><span class=\"rank\">29.</span></td> <td class=\"votelinks\" valign=\"top\"><center><a href=\"vote?id=34293784&amp;how=up&amp;goto=news\" id=\"up_34293784\"><div class=\"votearrow\" title=\"upvote\"></div></a></center></td><td class=\"title\"><span class=\"titleline\"><a href=\"https://www.theatlantic.com/books/archive/2023/01/turn-every-page-documentary-robert-caro-robert-gottlieb/672651/\">A civil war over semicolons: Robert Caro and his editor</a><span class=\"sitebit comhead\"> (<a href=\"from?site=theatlantic.com\"><span class=\"sitestr\">theatlantic.com</span></a>)</span></span></td></tr><tr><td colspan=\"2\"></td><td class=\"subtext\"><span class=\"subline\">\n",
      "<span class=\"score\" id=\"score_34293784\">62 points</span> by <a class=\"hnuser\" href=\"user?id=samclemens\">samclemens</a> <span class=\"age\" title=\"2023-01-07T22:42:36\"><a href=\"item?id=34293784\">12 hours ago</a></span> <span id=\"unv_34293784\"></span> | <a href=\"hide?id=34293784&amp;goto=news\">hide</a> | <a href=\"item?id=34293784\">51 comments</a> </span>\n",
      "</td></tr>\n",
      "<tr class=\"spacer\" style=\"height:5px\"></tr>\n",
      "<tr class=\"athing\" id=\"34299784\">\n",
      "<td align=\"right\" class=\"title\" valign=\"top\"><span class=\"rank\">30.</span></td> <td class=\"votelinks\" valign=\"top\"><center><a href=\"vote?id=34299784&amp;how=up&amp;goto=news\" id=\"up_34299784\"><div class=\"votearrow\" title=\"upvote\"></div></a></center></td><td class=\"title\"><span class=\"titleline\"><a href=\"https://www.the-scientist.com/foundations/universe-25-1968-1973-69941\">Universe 25, 1968–1973 (2022)</a><span class=\"sitebit comhead\"> (<a href=\"from?site=the-scientist.com\"><span class=\"sitestr\">the-scientist.com</span></a>)</span></span></td></tr><tr><td colspan=\"2\"></td><td class=\"subtext\"><span class=\"subline\">\n",
      "<span class=\"score\" id=\"score_34299784\">70 points</span> by <a class=\"hnuser\" href=\"user?id=firstSpeaker\">firstSpeaker</a> <span class=\"age\" title=\"2023-01-08T15:20:34\"><a href=\"item?id=34299784\">12 hours ago</a></span> <span id=\"unv_34299784\"></span> | <a href=\"hide?id=34299784&amp;goto=news\">hide</a> | <a href=\"item?id=34299784\">24 comments</a> </span>\n",
      "</td></tr>\n",
      "<tr class=\"spacer\" style=\"height:5px\"></tr>\n",
      "<tr class=\"morespace\" style=\"height:10px\"></tr><tr><td colspan=\"2\"></td>\n",
      "<td class=\"title\"><a class=\"morelink\" href=\"?p=2\" rel=\"next\">More</a></td> </tr>\n",
      "</table>\n",
      "</td></tr>\n",
      "<tr><td><img height=\"10\" src=\"s.gif\" width=\"0\"/><table cellpadding=\"1\" cellspacing=\"0\" width=\"100%\"><tr><td bgcolor=\"#ff6600\"></td></tr></table><br/>\n",
      "<center><span class=\"yclinks\"><a href=\"newsguidelines.html\">Guidelines</a> | <a href=\"newsfaq.html\">FAQ</a> | <a href=\"lists\">Lists</a> | <a href=\"https://github.com/HackerNews/API\">API</a> | <a href=\"security.html\">Security</a> | <a href=\"https://www.ycombinator.com/legal/\">Legal</a> | <a href=\"https://www.ycombinator.com/apply/\">Apply to YC</a> | <a href=\"mailto:hn@ycombinator.com\">Contact</a></span><br/><br/>\n",
      "<form action=\"//hn.algolia.com/\" method=\"get\">Search: <input autocapitalize=\"off\" autocomplete=\"false\" autocorrect=\"off\" name=\"q\" size=\"17\" spellcheck=\"false\" type=\"text\"/></form></center></td></tr> </table></center></body>\n",
      "<script src=\"hn.js?kXOjqdxBzqaGPJMHVid0\" type=\"text/javascript\"></script>\n",
      "</html>\n",
      "\n"
     ]
    }
   ],
   "source": [
    "from urllib.request import urlopen\n",
    "from bs4 import BeautifulSoup\n",
    "\n",
    "html = urlopen('https://news.ycombinator.com/')\n",
    "bs = BeautifulSoup(html.read(),'html.parser')\n",
    "print(bs)"
   ]
  },
  {
   "cell_type": "code",
   "execution_count": 16,
   "metadata": {},
   "outputs": [
    {
     "name": "stdout",
     "output_type": "stream",
     "text": [
      "The Server returned an HTTp error\n"
     ]
    }
   ],
   "source": [
    "from urllib.request import urlopen\n",
    "from urllib.error import HTTPError\n",
    "from urllib.error import URLError\n",
    "\n",
    "from bs4 import BeautifulSoup\n",
    "\n",
    "try:\n",
    "    html = urlopen('https://www.amazon.com/')\n",
    "except HTTPError as e:\n",
    "    print(\"The Server returned an HTTp error\")\n",
    "except URLError as e:\n",
    "    print(\"The Server could not be  found!\")\n",
    "else:\n",
    "    print(html.read())\n"
   ]
  },
  {
   "attachments": {},
   "cell_type": "markdown",
   "metadata": {},
   "source": [
    "<p>Two main things can go wrong in this line:<ul>\n",
    "<li>The page is not found on the server (or there was an error in retrieving it). \n",
    "<li>The server is not found.<br><br>\n",
    "<li>In the first situation, an HTTP error will be returned. This HTTP error may be “404 Page Not Found,” “500 Internal Server Error,” and so forth. In all of these cases, the urlopen function will throw the generic exception HTTPError\n",
    "If an HTTP error code is returned, the program now prints the error, and does not execute the rest of the program under the else statement.\n",
    "<li>If the server is not found at all (if, say, http://www.pythonscraping.com is down, or the URL is mistyped), urlopen will throw an URLError. This indicates that no server could be reached at all, and, because the remote server is responsible for returning HTTP status codes, an HTTPError cannot be thrown, and the more serious URLError must be caught.</p>"
   ]
  },
  {
   "cell_type": "code",
   "execution_count": 18,
   "metadata": {},
   "outputs": [
    {
     "name": "stdout",
     "output_type": "stream",
     "text": [
      "Requirement already satisfied: lxml in /Users/oscar/opt/anaconda3/envs/data/lib/python3.9/site-packages (4.6.3)\n"
     ]
    }
   ],
   "source": [
    "! pip install lxml"
   ]
  },
  {
   "attachments": {},
   "cell_type": "markdown",
   "metadata": {},
   "source": [
    "\"lxml\" has some advantages over html.parser in that it is generally better at parsing “messy” or malformed HTML code. It is forgiving and fixes problems like unclosed tags, tags that are improperly nested, and missing head or body tags. It is also some‐ what faster than html.parser"
   ]
  },
  {
   "cell_type": "code",
   "execution_count": 17,
   "metadata": {},
   "outputs": [
    {
     "name": "stdout",
     "output_type": "stream",
     "text": [
      "<h1>An Interesting Title</h1>\n"
     ]
    }
   ],
   "source": [
    "from urllib.request import urlopen\n",
    "from urllib.error import HTTPError\n",
    "from urllib.error import URLError\n",
    "\n",
    "def getTitle(url):\n",
    "    try:\n",
    "        html = urlopen(url)\n",
    "    except HTTPError as e:\n",
    "        return None\n",
    "    try:\n",
    "        bsObj = BeautifulSoup(html.read(),\"lxml\")\n",
    "        title = bsObj.body.h1\n",
    "    except AttributeError as e:\n",
    "        return None\n",
    "    return title\n",
    "\n",
    "title = getTitle(\"http://www.pythonscraping.com/pages/page1.html\")\n",
    "if title == None:\n",
    "    print('Title could not be found!')\n",
    "else:\n",
    "    print(title)"
   ]
  },
  {
   "attachments": {},
   "cell_type": "markdown",
   "metadata": {},
   "source": [
    "## Advanced HTML Parsing"
   ]
  },
  {
   "attachments": {},
   "cell_type": "markdown",
   "metadata": {},
   "source": [
    "The two functions are extremely similar, as evidenced by their definitions in the BeautifulSoup documentation:<br>\n",
    "<ul>\n",
    "    <li>find_all(tag, attributes, recursive, text, limit, keywords)\n",
    "    <li>find(tag, attributes, recursive, text, keywords)\n"
   ]
  },
  {
   "cell_type": "code",
   "execution_count": null,
   "metadata": {},
   "outputs": [],
   "source": [
    "from urllib.request import urlopen\n",
    "from bs4 import BeautifulSoup\n",
    "html = urlopen('http://www.pythonscraping.com/pages/warandpeace.html')\n",
    "bs = BeautifulSoup(html, \"html.parser\")\n",
    "\n",
    "nameList = bs.findAll('span', {'class': 'green'})\n",
    "for name in nameList:\n",
    "    print(name.get_text())"
   ]
  },
  {
   "attachments": {},
   "cell_type": "markdown",
   "metadata": {},
   "source": [
    ".get_text() strips all tags from the document you are working with and returns a Unicode string containing the text only"
   ]
  },
  {
   "cell_type": "code",
   "execution_count": 19,
   "metadata": {},
   "outputs": [],
   "source": [
    "from urllib.request import urlopen\n",
    "from  bs4 import BeautifulSoup\n",
    "html = urlopen('http://www.pythonscraping.com/pages/warandpeace.html')\n",
    "bs = BeautifulSoup(html, \"html.parser\")"
   ]
  },
  {
   "cell_type": "code",
   "execution_count": 20,
   "metadata": {},
   "outputs": [
    {
     "name": "stdout",
     "output_type": "stream",
     "text": [
      "Anna\n",
      "Pavlovna Scherer\n",
      "Empress Marya\n",
      "Fedorovna\n",
      "Prince Vasili Kuragin\n",
      "Anna Pavlovna\n",
      "St. Petersburg\n",
      "the prince\n",
      "Anna Pavlovna\n",
      "Anna Pavlovna\n",
      "the prince\n",
      "the prince\n",
      "the prince\n",
      "Prince Vasili\n",
      "Anna Pavlovna\n",
      "Anna Pavlovna\n",
      "the prince\n",
      "Wintzingerode\n",
      "King of Prussia\n",
      "le Vicomte de Mortemart\n",
      "Montmorencys\n",
      "Rohans\n",
      "Abbe Morio\n",
      "the Emperor\n",
      "the prince\n",
      "Prince Vasili\n",
      "Dowager Empress Marya Fedorovna\n",
      "the baron\n",
      "Anna Pavlovna\n",
      "the Empress\n",
      "the Empress\n",
      "Anna Pavlovna's\n",
      "Her Majesty\n",
      "Baron\n",
      "Funke\n",
      "The prince\n",
      "Anna\n",
      "Pavlovna\n",
      "the Empress\n",
      "The prince\n",
      "Anatole\n",
      "the prince\n",
      "The prince\n",
      "Anna\n",
      "Pavlovna\n",
      "Anna Pavlovna\n"
     ]
    }
   ],
   "source": [
    "nameList = bs.findAll('span',{'class':'green'})\n",
    "for name in nameList:\n",
    "    print(name.get_text())"
   ]
  },
  {
   "cell_type": "code",
   "execution_count": 21,
   "metadata": {},
   "outputs": [
    {
     "name": "stdout",
     "output_type": "stream",
     "text": [
      "[<h1>War and Peace</h1>, <h2>Chapter 1</h2>]\n"
     ]
    }
   ],
   "source": [
    "titles = bs.find_all(['h1','h2','h3','h4','h5','h6'])\n",
    "print([title for title in titles])"
   ]
  },
  {
   "cell_type": "code",
   "execution_count": 22,
   "metadata": {},
   "outputs": [
    {
     "name": "stdout",
     "output_type": "stream",
     "text": [
      "<span class=\"red\">Well, Prince, so Genoa and Lucca are now just family estates of the\n",
      "Buonapartes. But I warn you, if you don't tell me that this means war,\n",
      "if you still try to defend the infamies and horrors perpetrated by\n",
      "that Antichrist- I really believe he is Antichrist- I will have\n",
      "nothing more to do with you and you are no longer my friend, no longer\n",
      "my 'faithful slave,' as you call yourself! But how do you do? I see\n",
      "I have frightened you- sit down and tell me all the news.</span>\n",
      "<span class=\"green\">Anna\n",
      "Pavlovna Scherer</span>\n",
      "<span class=\"green\">Empress Marya\n",
      "Fedorovna</span>\n",
      "<span class=\"green\">Prince Vasili Kuragin</span>\n",
      "<span class=\"green\">Anna Pavlovna</span>\n",
      "<span class=\"green\">St. Petersburg</span>\n",
      "<span class=\"red\">If you have nothing better to do, Count [or Prince], and if the\n",
      "prospect of spending an evening with a poor invalid is not too\n",
      "terrible, I shall be very charmed to see you tonight between 7 and 10-\n",
      "Annette Scherer.</span>\n",
      "<span class=\"red\">Heavens! what a virulent attack!</span>\n",
      "<span class=\"green\">the prince</span>\n",
      "<span class=\"green\">Anna Pavlovna</span>\n",
      "<span class=\"red\">First of all, dear friend, tell me how you are. Set your friend's\n",
      "mind at rest,</span>\n",
      "<span class=\"red\">Can one be well while suffering morally? Can one be calm in times\n",
      "like these if one has any feeling?</span>\n",
      "<span class=\"green\">Anna Pavlovna</span>\n",
      "<span class=\"red\">You are\n",
      "staying the whole evening, I hope?</span>\n",
      "<span class=\"red\">And the fete at the English ambassador's? Today is Wednesday. I\n",
      "must put in an appearance there,</span>\n",
      "<span class=\"green\">the prince</span>\n",
      "<span class=\"red\">My daughter is\n",
      "coming for me to take me there.</span>\n",
      "<span class=\"red\">I thought today's fete had been canceled. I confess all these\n",
      "festivities and fireworks are becoming wearisome.</span>\n",
      "<span class=\"red\">If they had known that you wished it, the entertainment would\n",
      "have been put off,</span>\n",
      "<span class=\"green\">the prince</span>\n",
      "<span class=\"red\">Don't tease! Well, and what has been decided about Novosiltsev's\n",
      "dispatch? You know everything.</span>\n",
      "<span class=\"red\">What can one say about it?</span>\n",
      "<span class=\"green\">the prince</span>\n",
      "<span class=\"red\">What has been decided? They have decided that\n",
      "Buonaparte has burnt his boats, and I believe that we are ready to\n",
      "burn ours.</span>\n",
      "<span class=\"green\">Prince Vasili</span>\n",
      "<span class=\"green\">Anna Pavlovna</span>\n",
      "<span class=\"green\">Anna Pavlovna</span>\n",
      "<span class=\"red\">Oh, don't speak to me of Austria. Perhaps I don't understand\n",
      "things, but Austria never has wished, and does not wish, for war.\n",
      "She is betraying us! Russia alone must save Europe. Our gracious\n",
      "sovereign recognizes his high vocation and will be true to it. That is\n",
      "the one thing I have faith in! Our good and wonderful sovereign has to\n",
      "perform the noblest role on earth, and he is so virtuous and noble\n",
      "that God will not forsake him. He will fulfill his vocation and\n",
      "crush the hydra of revolution, which has become more terrible than\n",
      "ever in the person of this murderer and villain! We alone must\n",
      "avenge the blood of the just one.... Whom, I ask you, can we rely\n",
      "on?... England with her commercial spirit will not and cannot\n",
      "understand the Emperor Alexander's loftiness of soul. She has\n",
      "refused to evacuate Malta. She wanted to find, and still seeks, some\n",
      "secret motive in our actions. What answer did Novosiltsev get? None.\n",
      "The English have not understood and cannot understand the\n",
      "self-abnegation of our Emperor who wants nothing for himself, but only\n",
      "desires the good of mankind. And what have they promised? Nothing! And\n",
      "what little they have promised they will not perform! Prussia has\n",
      "always declared that Buonaparte is invincible, and that all Europe\n",
      "is powerless before him.... And I don't believe a word that Hardenburg\n",
      "says, or Haugwitz either. This famous Prussian neutrality is just a\n",
      "trap. I have faith only in God and the lofty destiny of our adored\n",
      "monarch. He will save Europe!</span>\n",
      "<span class=\"red\">I think,</span>\n",
      "<span class=\"green\">the prince</span>\n",
      "<span class=\"red\">that if you had been\n",
      "sent instead of our dear <span class=\"green\">Wintzingerode</span> you would have captured the\n",
      "<span class=\"green\">King of Prussia</span>'s consent by assault. You are so eloquent. Will you\n",
      "give me a cup of tea?</span>\n",
      "<span class=\"green\">Wintzingerode</span>\n",
      "<span class=\"green\">King of Prussia</span>\n",
      "<span class=\"red\">In a moment. A propos,</span>\n",
      "<span class=\"red\">I am\n",
      "expecting two very interesting men tonight, <span class=\"green\">le Vicomte de Mortemart</span>,\n",
      "who is connected with the <span class=\"green\">Montmorencys</span> through the <span class=\"green\">Rohans</span>, one of\n",
      "the best French families. He is one of the genuine emigres, the good\n",
      "ones. And also the <span class=\"green\">Abbe Morio</span>. Do you know that profound thinker? He\n",
      "has been received by <span class=\"green\">the Emperor</span>. Had you heard?</span>\n",
      "<span class=\"green\">le Vicomte de Mortemart</span>\n",
      "<span class=\"green\">Montmorencys</span>\n",
      "<span class=\"green\">Rohans</span>\n",
      "<span class=\"green\">Abbe Morio</span>\n",
      "<span class=\"green\">the Emperor</span>\n",
      "<span class=\"red\">I shall be delighted to meet them,</span>\n",
      "<span class=\"green\">the prince</span>\n",
      "<span class=\"red\">But tell me,</span>\n",
      "<span class=\"red\">is it true that the Dowager Empress wants Baron Funke\n",
      "to be appointed first secretary at Vienna? The baron by all accounts\n",
      "is a poor creature.</span>\n",
      "<span class=\"green\">Prince Vasili</span>\n",
      "<span class=\"green\">Dowager Empress Marya Fedorovna</span>\n",
      "<span class=\"green\">the baron</span>\n",
      "<span class=\"green\">Anna Pavlovna</span>\n",
      "<span class=\"green\">the Empress</span>\n",
      "<span class=\"red\">Baron Funke has been recommended to the Dowager Empress by her\n",
      "sister,</span>\n",
      "<span class=\"green\">the Empress</span>\n",
      "<span class=\"green\">Anna Pavlovna's</span>\n",
      "<span class=\"green\">Her Majesty</span>\n",
      "<span class=\"green\">Baron\n",
      "Funke</span>\n",
      "<span class=\"green\">The prince</span>\n",
      "<span class=\"green\">Anna\n",
      "Pavlovna</span>\n",
      "<span class=\"green\">the Empress</span>\n",
      "<span class=\"red\">Now about your family. Do you know that since your daughter came\n",
      "out everyone has been enraptured by her? They say she is amazingly\n",
      "beautiful.</span>\n",
      "<span class=\"green\">The prince</span>\n",
      "<span class=\"red\">I often think,</span>\n",
      "<span class=\"red\">I often think how unfairly sometimes the\n",
      "joys of life are distributed. Why has fate given you two such splendid\n",
      "children? I don't speak of <span class=\"green\">Anatole</span>, your youngest. I don't like\n",
      "him,</span>\n",
      "<span class=\"green\">Anatole</span>\n",
      "<span class=\"red\">Two such charming children. And really you appreciate\n",
      "them less than anyone, and so you don't deserve to have them.</span>\n",
      "<span class=\"red\">I can't help it,</span>\n",
      "<span class=\"green\">the prince</span>\n",
      "<span class=\"red\">Lavater would have said I\n",
      "lack the bump of paternity.</span>\n",
      "<span class=\"red\">Don't joke; I mean to have a serious talk with you. Do you know I\n",
      "am dissatisfied with your younger son? Between ourselves</span>\n",
      "<span class=\"red\">he was mentioned at Her\n",
      "Majesty's and you were pitied....</span>\n",
      "<span class=\"green\">The prince</span>\n",
      "<span class=\"red\">What would you have me do?</span>\n",
      "<span class=\"red\">You know I did all\n",
      "a father could for their education, and they have both turned out\n",
      "fools. Hippolyte is at least a quiet fool, but Anatole is an active\n",
      "one. That is the only difference between them.</span>\n",
      "<span class=\"red\">And why are children born to such men as you? If you were not a\n",
      "father there would be nothing I could reproach you with,</span>\n",
      "<span class=\"green\">Anna\n",
      "Pavlovna</span>\n",
      "<span class=\"red\">I am your faithful slave and to you alone I can confess that my\n",
      "children are the bane of my life. It is the cross I have to bear. That\n",
      "is how I explain it to myself. It can't be helped!</span>\n",
      "<span class=\"green\">Anna Pavlovna</span>\n"
     ]
    }
   ],
   "source": [
    "# span is the tag and its attributes are class red and green\n",
    "allText = bs.find_all('span',{'class':{'red','green'}})\n",
    "for text in allText:\n",
    "    print(text)"
   ]
  },
  {
   "cell_type": "code",
   "execution_count": 29,
   "metadata": {},
   "outputs": [
    {
     "name": "stdout",
     "output_type": "stream",
     "text": [
      "['the prince', 'the prince', 'the prince', 'the prince', 'the prince', 'the prince', 'the prince'] 7\n"
     ]
    }
   ],
   "source": [
    "nameList = bs.find_all(text='the prince')\n",
    "print(nameList,len(nameList))"
   ]
  },
  {
   "cell_type": "code",
   "execution_count": 33,
   "metadata": {},
   "outputs": [
    {
     "name": "stdout",
     "output_type": "stream",
     "text": [
      "\n",
      "\n",
      "<tr><th>\n",
      "Item Title\n",
      "</th><th>\n",
      "Description\n",
      "</th><th>\n",
      "Cost\n",
      "</th><th>\n",
      "Image\n",
      "</th></tr>\n",
      "\n",
      "\n",
      "<tr class=\"gift\" id=\"gift1\"><td>\n",
      "Vegetable Basket\n",
      "</td><td>\n",
      "This vegetable basket is the perfect gift for your health conscious (or overweight) friends!\n",
      "<span class=\"excitingNote\">Now with super-colorful bell peppers!</span>\n",
      "</td><td>\n",
      "$15.00\n",
      "</td><td>\n",
      "<img src=\"../img/gifts/img1.jpg\"/>\n",
      "</td></tr>\n",
      "\n",
      "\n",
      "<tr class=\"gift\" id=\"gift2\"><td>\n",
      "Russian Nesting Dolls\n",
      "</td><td>\n",
      "Hand-painted by trained monkeys, these exquisite dolls are priceless! And by \"priceless,\" we mean \"extremely expensive\"! <span class=\"excitingNote\">8 entire dolls per set! Octuple the presents!</span>\n",
      "</td><td>\n",
      "$10,000.52\n",
      "</td><td>\n",
      "<img src=\"../img/gifts/img2.jpg\"/>\n",
      "</td></tr>\n",
      "\n",
      "\n",
      "<tr class=\"gift\" id=\"gift3\"><td>\n",
      "Fish Painting\n",
      "</td><td>\n",
      "If something seems fishy about this painting, it's because it's a fish! <span class=\"excitingNote\">Also hand-painted by trained monkeys!</span>\n",
      "</td><td>\n",
      "$10,005.00\n",
      "</td><td>\n",
      "<img src=\"../img/gifts/img3.jpg\"/>\n",
      "</td></tr>\n",
      "\n",
      "\n",
      "<tr class=\"gift\" id=\"gift4\"><td>\n",
      "Dead Parrot\n",
      "</td><td>\n",
      "This is an ex-parrot! <span class=\"excitingNote\">Or maybe he's only resting?</span>\n",
      "</td><td>\n",
      "$0.50\n",
      "</td><td>\n",
      "<img src=\"../img/gifts/img4.jpg\"/>\n",
      "</td></tr>\n",
      "\n",
      "\n",
      "<tr class=\"gift\" id=\"gift5\"><td>\n",
      "Mystery Box\n",
      "</td><td>\n",
      "If you love suprises, this mystery box is for you! Do not place on light-colored surfaces. May cause oil staining. <span class=\"excitingNote\">Keep your friends guessing!</span>\n",
      "</td><td>\n",
      "$1.50\n",
      "</td><td>\n",
      "<img src=\"../img/gifts/img6.jpg\"/>\n",
      "</td></tr>\n",
      "\n",
      "\n"
     ]
    }
   ],
   "source": [
    "from urllib.request import urlopen\n",
    "from bs4 import BeautifulSoup \n",
    "\n",
    "html =  urlopen('http://www.pythonscraping.com/pages/page3.html')\n",
    "bs = BeautifulSoup(html, 'html.parser')\n",
    "\n",
    "# children are direct descendants of the specified tag in our case its table\n",
    "for child in bs.find('table',{'id':'giftList'}).children:\n",
    "    print(child)"
   ]
  },
  {
   "attachments": {},
   "cell_type": "markdown",
   "metadata": {},
   "source": [
    "children are always exactly one tag below a parent, whereas descendants can be at any level in the tree below a parent. For example, the tr tags are children of the table tag, whereas tr, th, td, img, and span are all descendants of the table tag "
   ]
  },
  {
   "cell_type": "code",
   "execution_count": 34,
   "metadata": {},
   "outputs": [
    {
     "name": "stdout",
     "output_type": "stream",
     "text": [
      "\n",
      "$15.00\n",
      "\n"
     ]
    }
   ],
   "source": [
    "from urllib.request import urlopen\n",
    "from bs4 import BeautifulSoup\n",
    "\n",
    "html = urlopen('http://www.pythonscraping.com/pages/page3.html')\n",
    "bs = BeautifulSoup(html, 'html.parser')\n",
    "print(bs.find('img',\n",
    "              {'src':'../img/gifts/img1.jpg'})\n",
    "      .parent.previous_sibling.get_text())"
   ]
  },
  {
   "attachments": {},
   "cell_type": "markdown",
   "metadata": {},
   "source": [
    "The output of this code is to print all rows of products from the product table, except for the first title row. Why does the title row get skipped? Objects cannot be siblings with themselves. Anytime you get siblings of an object, the object itself will not be included in the list."
   ]
  },
  {
   "attachments": {},
   "cell_type": "markdown",
   "metadata": {},
   "source": [
    "### Regular Expressions"
   ]
  },
  {
   "cell_type": "code",
   "execution_count": 36,
   "metadata": {},
   "outputs": [
    {
     "name": "stdout",
     "output_type": "stream",
     "text": [
      "../img/gifts/img1.jpg\n",
      "../img/gifts/img2.jpg\n",
      "../img/gifts/img3.jpg\n",
      "../img/gifts/img4.jpg\n",
      "../img/gifts/img6.jpg\n"
     ]
    }
   ],
   "source": [
    "from urllib.request import urlopen\n",
    "from bs4 import BeautifulSoup\n",
    "import re\n",
    "\n",
    "html = urlopen('http://www.pythonscraping.com/pages/page3.html')\n",
    "bs = BeautifulSoup(html, 'html.parser')\n",
    "images = bs.find_all('img',{'src':re.compile('\\.\\.\\/img\\/gifts/img.*\\.jpg')})\n",
    "for image in images:\n",
    "    print(image['src'])"
   ]
  },
  {
   "attachments": {},
   "cell_type": "markdown",
   "metadata": {},
   "source": [
    "### Lambda Expressions"
   ]
  },
  {
   "cell_type": "code",
   "execution_count": 37,
   "metadata": {},
   "outputs": [
    {
     "data": {
      "text/plain": [
       "[<img src=\"../img/gifts/logo.jpg\" style=\"float:left;\"/>,\n",
       " <tr class=\"gift\" id=\"gift1\"><td>\n",
       " Vegetable Basket\n",
       " </td><td>\n",
       " This vegetable basket is the perfect gift for your health conscious (or overweight) friends!\n",
       " <span class=\"excitingNote\">Now with super-colorful bell peppers!</span>\n",
       " </td><td>\n",
       " $15.00\n",
       " </td><td>\n",
       " <img src=\"../img/gifts/img1.jpg\"/>\n",
       " </td></tr>,\n",
       " <tr class=\"gift\" id=\"gift2\"><td>\n",
       " Russian Nesting Dolls\n",
       " </td><td>\n",
       " Hand-painted by trained monkeys, these exquisite dolls are priceless! And by \"priceless,\" we mean \"extremely expensive\"! <span class=\"excitingNote\">8 entire dolls per set! Octuple the presents!</span>\n",
       " </td><td>\n",
       " $10,000.52\n",
       " </td><td>\n",
       " <img src=\"../img/gifts/img2.jpg\"/>\n",
       " </td></tr>,\n",
       " <tr class=\"gift\" id=\"gift3\"><td>\n",
       " Fish Painting\n",
       " </td><td>\n",
       " If something seems fishy about this painting, it's because it's a fish! <span class=\"excitingNote\">Also hand-painted by trained monkeys!</span>\n",
       " </td><td>\n",
       " $10,005.00\n",
       " </td><td>\n",
       " <img src=\"../img/gifts/img3.jpg\"/>\n",
       " </td></tr>,\n",
       " <tr class=\"gift\" id=\"gift4\"><td>\n",
       " Dead Parrot\n",
       " </td><td>\n",
       " This is an ex-parrot! <span class=\"excitingNote\">Or maybe he's only resting?</span>\n",
       " </td><td>\n",
       " $0.50\n",
       " </td><td>\n",
       " <img src=\"../img/gifts/img4.jpg\"/>\n",
       " </td></tr>,\n",
       " <tr class=\"gift\" id=\"gift5\"><td>\n",
       " Mystery Box\n",
       " </td><td>\n",
       " If you love suprises, this mystery box is for you! Do not place on light-colored surfaces. May cause oil staining. <span class=\"excitingNote\">Keep your friends guessing!</span>\n",
       " </td><td>\n",
       " $1.50\n",
       " </td><td>\n",
       " <img src=\"../img/gifts/img6.jpg\"/>\n",
       " </td></tr>]"
      ]
     },
     "execution_count": 37,
     "metadata": {},
     "output_type": "execute_result"
    }
   ],
   "source": [
    "bs.find_all(lambda tag: len(tag.attrs) == 2)"
   ]
  },
  {
   "cell_type": "code",
   "execution_count": 38,
   "metadata": {},
   "outputs": [
    {
     "data": {
      "text/plain": [
       "[<span class=\"excitingNote\">Or maybe he's only resting?</span>]"
      ]
     },
     "execution_count": 38,
     "metadata": {},
     "output_type": "execute_result"
    }
   ],
   "source": [
    "bs.find_all(lambda tag: tag.get_text() == 'Or maybe he\\'s only resting?')"
   ]
  },
  {
   "cell_type": "code",
   "execution_count": 39,
   "metadata": {},
   "outputs": [
    {
     "data": {
      "text/plain": [
       "[\"Or maybe he's only resting?\"]"
      ]
     },
     "execution_count": 39,
     "metadata": {},
     "output_type": "execute_result"
    }
   ],
   "source": [
    "bs.find_all('', text='Or maybe he\\'s only resting?')"
   ]
  }
 ],
 "metadata": {
  "kernelspec": {
   "display_name": "data",
   "language": "python",
   "name": "python3"
  },
  "language_info": {
   "codemirror_mode": {
    "name": "ipython",
    "version": 3
   },
   "file_extension": ".py",
   "mimetype": "text/x-python",
   "name": "python",
   "nbconvert_exporter": "python",
   "pygments_lexer": "ipython3",
   "version": "3.9.7"
  },
  "orig_nbformat": 4,
  "vscode": {
   "interpreter": {
    "hash": "4b5221f7fd568601ffb692ded55cc6a8f9f720c6422993e13b3964f3c2d5ea0a"
   }
  }
 },
 "nbformat": 4,
 "nbformat_minor": 2
}
